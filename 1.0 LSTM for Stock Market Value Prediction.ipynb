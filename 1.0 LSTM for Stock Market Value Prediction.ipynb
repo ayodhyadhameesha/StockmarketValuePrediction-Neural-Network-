{
 "cells": [
  {
   "cell_type": "code",
   "execution_count": 18,
   "metadata": {},
   "outputs": [
    {
     "name": "stdout",
     "output_type": "stream",
     "text": [
      "[[67.7142]\n",
      " [68.0714]\n",
      " [68.5014]\n",
      " [66.7442]\n",
      " [66.3599]]\n",
      "(1259, 1)\n"
     ]
    }
   ],
   "source": [
    "import pandas as pd\n",
    "dataset=pd.read_csv('AAPL_data.csv').values\n",
    "open_value=dataset[:,1]\n",
    "open_value=open_value.reshape(-1,1)\n",
    "print(open_value[:5])\n",
    "print(open_value.shape)"
   ]
  },
  {
   "cell_type": "code",
   "execution_count": 19,
   "metadata": {},
   "outputs": [
    {
     "data": {
      "image/png": "[encoded data removed]",
      "text/plain": [
       "<Figure size 432x288 with 1 Axes>"
      ]
     },
     "metadata": {
      "needs_background": "light"
     },
     "output_type": "display_data"
    }
   ],
   "source": [
    "from matplotlib import pyplot as plt\n",
    "\n",
    "plt.plot(open_value)\n",
    "plt.xlabel('Date')\n",
    "plt.xlabel('Open Value/$')\n",
    "plt.show()"
   ]
  },
  {
   "cell_type": "code",
   "execution_count": 20,
   "metadata": {},
   "outputs": [
    {
     "name": "stdout",
     "output_type": "stream",
     "text": [
      "[[67.7142]\n",
      " [68.0714]\n",
      " [68.5014]\n",
      " [66.7442]\n",
      " [66.3599]]\n",
      "[[0.09915624]\n",
      " [0.10203815]\n",
      " [0.10550741]\n",
      " [0.09133024]\n",
      " [0.08822969]]\n"
     ]
    }
   ],
   "source": [
    "from sklearn.preprocessing import MinMaxScaler\n",
    "scaler=MinMaxScaler(feature_range=(0,1))\n",
    "scaled_open_value=scaler.fit_transform(open_value)\n",
    "print(open_value[:5])\n",
    "print(scaled_open_value[:5])"
   ]
  },
  {
   "cell_type": "code",
   "execution_count": 22,
   "metadata": {},
   "outputs": [],
   "source": [
    "data=[]\n",
    "target=[]\n",
    "\n",
    "for i in range(50,open_value.shape[0]):\n",
    "    data.append(scaled_open_value[i-50:i])\n",
    "    target.append(scaled_open_value[i])\n",
    "    "
   ]
  },
  {
   "cell_type": "code",
   "execution_count": 23,
   "metadata": {},
   "outputs": [
    {
     "name": "stdout",
     "output_type": "stream",
     "text": [
      "(1209, 50, 1)\n",
      "(1209, 1)\n"
     ]
    }
   ],
   "source": [
    "import numpy as np\n",
    "data_np=np.array(data)\n",
    "target_np=np.array(target)\n",
    "\n",
    "print(data_np.sha\n",
    "print(target_np.shape)"
   ]
  },
  {
   "cell_type": "code",
   "execution_count": 25,
   "metadata": {},
   "outputs": [],
   "source": [
    "np.save('data',data)\n",
    "np.save('target',target)"
   ]
  },
  {
   "cell_type": "code",
   "execution_count": null,
   "metadata": {},
   "outputs": [],
   "source": []
  }
 ],
 "metadata": {
  "kernelspec": {
   "display_name": "Python 3",
   "language": "python",
   "name": "python3"
  },
  "language_info": {
   "codemirror_mode": {
    "name": "ipython",
    "version": 3
   },
   "file_extension": ".py",
   "mimetype": "text/x-python",
   "name": "python",
   "nbconvert_exporter": "python",
   "pygments_lexer": "ipython3",
   "version": "3.6.9"
  }
 },
 "nbformat": 4,
 "nbformat_minor": 2
}
